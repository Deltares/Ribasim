{
 "cells": [
  {
   "cell_type": "markdown",
   "metadata": {},
   "source": [
    "---\n",
    "title: \"Reservoir\"\n",
    "---"
   ]
  },
  {
   "cell_type": "code",
   "execution_count": null,
   "metadata": {},
   "outputs": [],
   "source": [
    "from pathlib import Path\n",
    "\n",
    "import matplotlib.pyplot as plt\n",
    "import pandas as pd\n",
    "import plotly.express as px\n",
    "from ribasim import Model, Node\n",
    "from ribasim.nodes import (\n",
    "    basin,\n",
    "    flow_boundary,\n",
    "    tabulated_rating_curve,\n",
    "    user_demand,\n",
    ")\n",
    "from shapely.geometry import Point"
   ]
  },
  {
   "cell_type": "code",
   "execution_count": null,
   "metadata": {},
   "outputs": [],
   "source": [
    "base_dir = Path(\"crystal-basin\")\n",
    "\n",
    "starttime = \"2022-01-01\"\n",
    "endtime = \"2023-01-01\"\n",
    "model = Model(\n",
    "    starttime=starttime,\n",
    "    endtime=endtime,\n",
    "    crs=\"EPSG:4326\",\n",
    ")"
   ]
  },
  {
   "cell_type": "markdown",
   "metadata": {},
   "source": [
    "These nodes are identical to the previous tutorial:"
   ]
  },
  {
   "cell_type": "code",
   "execution_count": null,
   "metadata": {},
   "outputs": [],
   "source": [
    "# FlowBoundary\n",
    "data = pd.DataFrame({\n",
    "    \"time\": pd.date_range(start=\"2022-01-01\", end=\"2023-01-01\", freq=\"MS\"),\n",
    "    \"main\": [74.7, 57.9, 63.2, 183.9, 91.8, 47.5, 32.6, 27.6, 26.5, 25.1, 39.3, 37.8, 57.9],\n",
    "    \"minor\": [16.3, 3.8, 3.0, 37.6, 18.2, 11.1, 12.9, 12.2, 11.2, 10.8, 15.1, 14.3, 11.8]\n",
    "})  # fmt: skip\n",
    "data[\"total\"] = data[\"minor\"] + data[\"main\"]\n",
    "main = model.flow_boundary.add(\n",
    "    Node(1, Point(0.0, 0.0), name=\"main\"),\n",
    "    [\n",
    "        flow_boundary.Time(\n",
    "            time=data.time,\n",
    "            flow_rate=data.main,\n",
    "        )\n",
    "    ],\n",
    ")\n",
    "minor = model.flow_boundary.add(\n",
    "    Node(2, Point(-3.0, 0.0), name=\"minor\"),\n",
    "    [\n",
    "        flow_boundary.Time(\n",
    "            time=data.time,\n",
    "            flow_rate=data.minor,\n",
    "        )\n",
    "    ],\n",
    ")\n",
    "\n",
    "# Basin\n",
    "confluence = model.basin.add(\n",
    "    Node(3, Point(-1.5, -1), name=\"confluence\"),\n",
    "    [\n",
    "        basin.Profile(area=[672000, 5600000], level=[0, 6]),\n",
    "        basin.State(level=[4]),\n",
    "        basin.Time(time=[starttime, endtime]),\n",
    "    ],\n",
    ")\n",
    "\n",
    "# TabulatedRatingCurve\n",
    "weir = model.tabulated_rating_curve.add(\n",
    "    Node(4, Point(-1.5, -1.5), name=\"weir\"),\n",
    "    [\n",
    "        tabulated_rating_curve.Static(\n",
    "            level=[0.0, 2, 5],\n",
    "            flow_rate=[0.0, 50, 200],\n",
    "        )\n",
    "    ],\n",
    ")\n",
    "diversion_weir = model.tabulated_rating_curve.add(\n",
    "    Node(8, Point(-1.125, -0.75), name=\"diversion_weir\"),\n",
    "    [\n",
    "        tabulated_rating_curve.Static(\n",
    "            level=[0.0, 1.5, 5],\n",
    "            flow_rate=[0.0, 45, 200],\n",
    "        )\n",
    "    ],\n",
    ")\n",
    "\n",
    "# UserDemand\n",
    "irrigation = model.user_demand.add(\n",
    "    Node(7, Point(-1.5, 0.5), name=\"irrigation\"),\n",
    "    [\n",
    "        user_demand.Time(\n",
    "            demand=[0.0, 0.0, 10, 12, 12, 0.0],\n",
    "            return_factor=0,\n",
    "            min_level=0,\n",
    "            demand_priority=1,\n",
    "            time=[\n",
    "                starttime,\n",
    "                \"2022-03-31\",\n",
    "                \"2022-04-01\",\n",
    "                \"2022-07-01\",\n",
    "                \"2022-09-30\",\n",
    "                \"2022-10-01\",\n",
    "            ],\n",
    "        )\n",
    "    ],\n",
    ")\n",
    "\n",
    "# Terminal\n",
    "sea = model.terminal.add(Node(5, Point(-1.5, -3.0), name=\"sea\"))"
   ]
  },
  {
   "cell_type": "markdown",
   "metadata": {},
   "source": [
    "Due to the increase of population and climate change Crystal city has implemented a reservoir upstream to store water for domestic use (See @fig-reservoir).\n",
    "The reservoir is to help ensure a reliable supply during dry periods.\n",
    "In this module, the user will update the model to incorporate the reservoir's impact on the whole Crystal basin.\n",
    "\n",
    "![Crystal basin with demands and a reservoir](https://s3.deltares.nl/ribasim/doc-image/quickstart/Crystal-basin-with-demands-and-a-reservoir.png){fig-align=\"left\" #fig-reservoir}\n",
    "\n",
    "## Reservoir\n",
    "### Add a Basin\n",
    "The `diversion_basin` from the previous tutorial is not used, but replaced by a larger `reservoir` Basin.\n",
    "Its water will play an important role for the users (the city and the irrigation district).\n",
    "The reservoir has a maximum area of $32.3 \\text{ km}^2$ and a maximum depth of $7 \\text{ m}$."
   ]
  },
  {
   "cell_type": "code",
   "execution_count": null,
   "metadata": {},
   "outputs": [],
   "source": [
    "reservoir = model.basin.add(\n",
    "    Node(6, Point(-0.75, -0.5), name=\"reservoir\"),\n",
    "    [\n",
    "        basin.Profile(area=[20000000, 32300000], level=[0, 7]),\n",
    "        basin.State(level=[3.5]),\n",
    "        basin.Time(time=[starttime, endtime]),\n",
    "    ],\n",
    ")"
   ]
  },
  {
   "cell_type": "markdown",
   "metadata": {},
   "source": [
    "### Add a demand node\n",
    "$50.000$ people live in Crystal City.\n",
    "To represents the total flow rate or abstraction rate required to meet the water demand of $50.000$ people, another demand node needs to be added assuming a return flow of $60%$."
   ]
  },
  {
   "cell_type": "code",
   "execution_count": null,
   "metadata": {},
   "outputs": [],
   "source": [
    "city = model.user_demand.add(\n",
    "    Node(9, Point(0, -1), name=\"city\"),\n",
    "    [\n",
    "        user_demand.Time(\n",
    "            # Total demand in m³/s\n",
    "            demand=[0.07, 0.08, 0.09, 0.10, 0.12, 0.14, 0.15, 0.14, 0.12, 0.10, 0.09, 0.08],\n",
    "            return_factor=0.6,\n",
    "            min_level=0,\n",
    "            demand_priority=1,\n",
    "            time=pd.date_range(start=\"2022-01-01\", periods=12, freq=\"MS\"),\n",
    "        )\n",
    "    ],\n",
    ")  # fmt: skip"
   ]
  },
  {
   "cell_type": "code",
   "execution_count": null,
   "metadata": {},
   "outputs": [],
   "source": [
    "model.link.add(main, reservoir, name=\"main\")\n",
    "model.link.add(minor, confluence, name=\"minor\")\n",
    "model.link.add(reservoir, irrigation, name=\"irrigation\")\n",
    "model.link.add(irrigation, confluence)\n",
    "model.link.add(reservoir, city, name=\"city\")\n",
    "model.link.add(city, confluence, name=\"city returnflow\")\n",
    "model.link.add(reservoir, diversion_weir, name=\"not diverted\")\n",
    "model.link.add(diversion_weir, confluence)\n",
    "model.link.add(confluence, weir)\n",
    "model.link.add(weir, sea, name=\"sea\")"
   ]
  },
  {
   "cell_type": "code",
   "execution_count": null,
   "metadata": {},
   "outputs": [],
   "source": [
    "model.plot();"
   ]
  },
  {
   "cell_type": "code",
   "execution_count": null,
   "metadata": {},
   "outputs": [],
   "source": [
    "toml_path = base_dir / \"Crystal-3/ribasim.toml\"\n",
    "model.write(toml_path)\n",
    "cli_path = \"ribasim\""
   ]
  },
  {
   "cell_type": "markdown",
   "metadata": {},
   "source": [
    "### Adjust the code\n",
    "Adjust the naming of the Basin in the dictionary mapping and the saving file should be `Crystal-3`."
   ]
  },
  {
   "cell_type": "code",
   "execution_count": null,
   "metadata": {},
   "outputs": [],
   "source": [
    "# | include: false\n",
    "from subprocess import run\n",
    "\n",
    "run(\n",
    "    [\n",
    "        \"julia\",\n",
    "        \"--project=../../core\",\n",
    "        \"--eval\",\n",
    "        f'using Ribasim; Ribasim.main(\"{toml_path.as_posix()}\")',\n",
    "    ],\n",
    "    check=True,\n",
    ")"
   ]
  },
  {
   "cell_type": "markdown",
   "metadata": {},
   "source": [
    "## Plot reservoir storage and level"
   ]
  },
  {
   "cell_type": "code",
   "execution_count": null,
   "metadata": {},
   "outputs": [],
   "source": [
    "df_basin = pd.read_feather(\n",
    "    base_dir / \"Crystal-3/results/basin.arrow\", dtype_backend=\"pyarrow\"\n",
    ")\n",
    "\n",
    "# Create pivot tables and plot for Basin data\n",
    "df_basin_wide = df_basin.pivot_table(\n",
    "    index=\"time\", columns=\"node_id\", values=[\"storage\", \"level\"]\n",
    ")\n",
    "df_basin_wide = df_basin_wide.loc[:, pd.IndexSlice[:, reservoir.node_id]]\n",
    "\n",
    "# Plot level and storage on the same graph with dual y-axes\n",
    "fig, ax1 = plt.subplots(figsize=(12, 6))\n",
    "\n",
    "# Plot level on the primary y-axis\n",
    "color = \"b\"\n",
    "ax1.set_xlabel(\"Time\")\n",
    "ax1.set_ylabel(\"Level [m]\", color=color)\n",
    "ax1.plot(df_basin_wide.index, df_basin_wide[\"level\"], color=color)\n",
    "ax1.tick_params(axis=\"y\", labelcolor=color)\n",
    "\n",
    "# Create a secondary y-axis for storage\n",
    "ax2 = ax1.twinx()\n",
    "color = \"r\"\n",
    "ax2.set_ylabel(\"Storage [m³]\", color=\"r\")\n",
    "ax2.plot(df_basin_wide.index, df_basin_wide[\"storage\"], linestyle=\"--\", color=color)\n",
    "ax2.tick_params(axis=\"y\", labelcolor=color)\n",
    "\n",
    "fig.tight_layout()  # Adjust layout to fit labels\n",
    "plt.title(\"Basin level and storage\")\n",
    "plt.show()"
   ]
  },
  {
   "cell_type": "markdown",
   "metadata": {},
   "source": [
    "The figure above illustrates the storage and water level at the reservoir.\n",
    "As expected, after increasing the profile of the Basin, its storage capacity increased as well.\n",
    "\n",
    "## Plot flows"
   ]
  },
  {
   "cell_type": "code",
   "execution_count": null,
   "metadata": {},
   "outputs": [],
   "source": [
    "df_flow = pd.read_feather(\n",
    "    base_dir / \"Crystal-3/results/flow.arrow\", dtype_backend=\"pyarrow\"\n",
    ")\n",
    "# Add the link names and then remove unnamed links\n",
    "df_flow[\"name\"] = model.link.df[\"name\"].loc[df_flow[\"link_id\"]].to_numpy()\n",
    "df_flow = df_flow[df_flow[\"name\"].astype(bool)]\n",
    "\n",
    "# Plot the flow data, interactive plot with Plotly\n",
    "pivot_flow = df_flow.pivot_table(\n",
    "    index=\"time\", columns=\"name\", values=\"flow_rate\"\n",
    ").reset_index()\n",
    "fig = px.line(pivot_flow, x=\"time\", y=pivot_flow.columns[1:], title=\"Flow [m3/s]\")\n",
    "\n",
    "fig.update_layout(legend_title_text=\"Link\")\n",
    "fig.show()"
   ]
  }
 ],
 "metadata": {
  "kernelspec": {
   "display_name": "Python 3",
   "language": "python",
   "name": "python3"
  },
  "language_info": {
   "codemirror_mode": {
    "name": "ipython",
    "version": 3
   },
   "file_extension": ".py",
   "mimetype": "text/x-python",
   "name": "python",
   "nbconvert_exporter": "python",
   "pygments_lexer": "ipython3",
   "version": "3.12.5"
  }
 },
 "nbformat": 4,
 "nbformat_minor": 4
}
