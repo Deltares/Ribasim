{
 "cells": [
  {
   "cell_type": "markdown",
   "metadata": {},
   "source": [
    "---\n",
    "title: \"Getting started\"\n",
    "---"
   ]
  },
  {
   "cell_type": "markdown",
   "metadata": {},
   "source": [
    "# Introduction\n",
    "Welcome to Ribasim!\n",
    "This tutorial will help you get started with the basics of using Ribasim for river basin simulation.\n",
    "In this tutorial, the schematization of models is done in Python using the Ribasim Python package.\n",
    "The Ribasim Python package (named `ribasim`) simplifies the process of building, updating, and analyzing Ribasim model programmatically.\n",
    "It also allows for the creation of entire models from base data, ensuring that your model setup is fully reproducible.\n",
    "\n",
    "To run this tutorial locally, install the latest release of Ribasim as documented in [the installation guide](/install.qmd).\n",
    "Some of the tutorials use a Python package that must be installed separately, [Plotly](https://plotly.com/python/getting-started/#installation).\n",
    "\n",
    "## Learning objectives\n",
    "In this tutorial, we will focus on a fictional river basin called Crystal, which will serve as our case study.\n",
    "The guide is divided into different modules, each covering various scenarios.\n",
    "These include simulating natural flow, implementing reservoirs, and observing the impact of other structures.\n",
    "While not all node types and possibilities will be demonstrated, the focus will be on the most commonly used and significant situations.\n",
    "By the end of the tutorial, users will be able to:\n",
    "\n",
    "- **Set up a basic Ribasim model**: Understand how to create a new model for a river basin using the Ribasim Python package.\n",
    "- **Evaluate the impact of demands**: Introduce water demand (such as irrigation) and assess their effects on the river basin.\n",
    "- **Modify and update models**: Learn how to update existing models with new data and changes.\n",
    "- **Analyze simulation results**: Use built-in tools to analyze and interpret the results of your simulations."
   ]
  },
  {
   "cell_type": "markdown",
   "metadata": {},
   "source": [
    "# Crystal River Basin\n",
    "We will examine a straightforward example of the Crystal river basin, which includes a main river and a single tributary flowing into the sea (see @fig-crystal-basin).\n",
    "Between 2014 and 2023 an average discharge of $44.45 \\text{ m}^3/\\text{s}$ is measured at the confluence.\n",
    "In this module, the basin is free of any activities, allowing the model to simulate the natural flow.\n",
    "The next step is to include a demand (irrigation) that taps from a canal out of the main river.\n",
    "\n",
    "![Crystal Basin based on natural flow](https://s3.deltares.nl/ribasim/doc-image/quickstart/Crystal-Basin-based-on-natural-flow.png){fig-align=\"left\" #fig-crystal-basin}\n",
    "\n",
    "After this module the user will be able to:\n",
    "\n",
    "- Build a river basin model from scratch\n",
    "- Understand the functionality of the Demand and Basin nodes\n",
    "- Generate overview of results\n",
    "- Evaluate the simulation results\n",
    "\n",
    "## Natural flow\n",
    "\n",
    "### Import packages\n",
    "Before building the model we need to import some modules.\n",
    "Open your favorite Python editor (Visual Studio Code, Jupyter, ...) and create a new script or notebook and name it `Crystal_1.1` and save it into your model folder `Crystal_Basin`.\n",
    "Import the following modules in Python:"
   ]
  },
  {
   "cell_type": "code",
   "execution_count": null,
   "metadata": {},
   "outputs": [],
   "source": [
    "from pathlib import Path\n",
    "\n",
    "import matplotlib.pyplot as plt\n",
    "import pandas as pd\n",
    "from ribasim import Model, Node\n",
    "from ribasim.nodes import basin, flow_boundary, tabulated_rating_curve\n",
    "from shapely.geometry import Point"
   ]
  },
  {
   "cell_type": "markdown",
   "metadata": {},
   "source": [
    "### Setup paths and model configuration\n",
    "Reference the paths of the Ribasim installation and model directory and define the time period.\n",
    "The used simulation period is defined by the `starttime` and `endtime` of the model, not by the input timeseries.\n",
    "For now we will look into the period from 2022-01-01 until 2023-01-01 for the model simulation.\n",
    "The coordinate reference system (CRS) is also required, and set to [EPSG:4326](https://epsg.io/4326), which means all coordinates are interpreted as latitude and longitude values.\n",
    "The CRS is important for correctly placing Ribasim models on the map, but since this is a fictional model, it is not important."
   ]
  },
  {
   "cell_type": "code",
   "execution_count": null,
   "metadata": {},
   "outputs": [],
   "source": [
    "base_dir = Path(\"crystal-basin\")\n",
    "\n",
    "starttime = \"2022-01-01\"\n",
    "endtime = \"2023-01-01\"\n",
    "model = Model(\n",
    "    starttime=starttime,\n",
    "    endtime=endtime,\n",
    "    crs=\"EPSG:4326\",\n",
    ")"
   ]
  },
  {
   "cell_type": "markdown",
   "metadata": {},
   "source": [
    "### FlowBoundary nodes\n",
    "The Crystal basin consists of two inflow points, the tributary and the main Crystal river, we will call them Minor and Main respectively.\n",
    "This is a monthly inflow timeseries from 2014 to 2023.\n",
    "The used simulation period is defined by the `starttime` and `endtime` of the model, not by the input timeseries."
   ]
  },
  {
   "cell_type": "code",
   "execution_count": null,
   "metadata": {},
   "outputs": [],
   "source": [
    "data = pd.DataFrame({\n",
    "    \"time\": pd.date_range(start=\"2022-01-01\", end=\"2023-01-01\", freq=\"MS\"),\n",
    "    \"main\": [74.7, 57.9, 63.2, 183.9, 91.8, 47.5, 32.6, 27.6, 26.5, 25.1, 39.3, 37.8, 57.9],\n",
    "    \"minor\": [16.3, 3.8, 3.0, 37.6, 18.2, 11.1, 12.9, 12.2, 11.2, 10.8, 15.1, 14.3, 11.8]\n",
    "})  # fmt: skip\n",
    "data[\"total\"] = data[\"minor\"] + data[\"main\"]\n",
    "display(data)\n",
    "\n",
    "# Average and max inflow of the total inflow data over 2022\n",
    "print(\"Average inflow [m3/s]:\", data[\"total\"].mean())\n",
    "print(\"Maximum inflow [m3/s]:\", data[\"total\"].max())\n",
    "\n",
    "main = model.flow_boundary.add(\n",
    "    Node(1, Point(0.0, 0.0), name=\"main\"),\n",
    "    [\n",
    "        flow_boundary.Time(\n",
    "            time=data.time,\n",
    "            flow_rate=data.main,\n",
    "        )\n",
    "    ],\n",
    ")\n",
    "\n",
    "minor = model.flow_boundary.add(\n",
    "    Node(2, Point(-3.0, 0.0), name=\"minor\"),\n",
    "    [\n",
    "        flow_boundary.Time(\n",
    "            time=data.time,\n",
    "            flow_rate=data.minor,\n",
    "        )\n",
    "    ],\n",
    ")"
   ]
  },
  {
   "cell_type": "markdown",
   "metadata": {},
   "source": [
    "### Basin node (confluence)\n",
    "To schematize the confluence from the tributary we will use the Basin node.\n",
    "The node by itself portrays as water storage with a certain volume of water and can be used for different purposes, such as a reservoir, river reach, lake or in this case a confluence.\n",
    "@fig-confluence visualizes a cross section of the confluence point in our model.\n",
    "\n",
    "![Basin node concept for the confluence](https://s3.deltares.nl/ribasim/doc-image/quickstart/Basin-node-concept-for-the-confluence.png){fig-align=\"left\" #fig-confluence}\n",
    "\n",
    "@tbl-input1 shows the input data for the Basin node profile.\n",
    "\n",
    ": Profile data for the basin node {#tbl-input1}\n",
    "\n",
    "| Area [$\\text{m}^2$] | Level [$\\text{m}$] |\n",
    "|---------------------|--------------------|\n",
    "|    $672000.0$       |      $0.0$         |\n",
    "|   $5600000.0$       |      $6.0$         |\n",
    "\n",
    "Whilst in this case the level starts at $0.0$ and therefore happens to be the same as the depth, it should never be interpreted as a depth.\n",
    "All water levels in Ribasim are assumed to be with respect to a shared reference datum, like mean sea level (MSL).\n",
    "The first water level in the profile is the height of the Basin bottom above this reference datum.\n",
    "\n",
    "To specify the Basin profile, the following code is used:"
   ]
  },
  {
   "cell_type": "code",
   "execution_count": null,
   "metadata": {},
   "outputs": [],
   "source": [
    "confluence = model.basin.add(\n",
    "    Node(3, Point(-1.5, -1), name=\"confluence\"),\n",
    "    [\n",
    "        basin.Profile(area=[672000, 5600000], level=[0, 6]),\n",
    "        basin.State(level=[4]),\n",
    "        basin.Time(time=[starttime, endtime]),\n",
    "    ],\n",
    ")"
   ]
  },
  {
   "cell_type": "markdown",
   "metadata": {},
   "source": [
    "### TabulatedRatingCurve\n",
    "In the previous step we implemented a Basin node that functions as a confluence.\n",
    "Conceptually, the Basin acts as a store of water, accumulating inflows and then releasing them.\n",
    "A Basin cannot directly connect to another Basin, because the rules for water exchange between them need to be defined.\n",
    "Connector nodes take care of this.\n",
    "The first such node we introduce is the TabulatedRatingCurve.\n",
    "It defines a relation between the water level ($h$) in the Basin and the outflow ($Q$) from the Basin.\n",
    "This setup mimics the behavior of a gate or spillway, allowing us to model how varying water levels influence flow rates at the confluence.\n",
    "\n",
    "As the two inflows come together at the confluence, we expect, as mentioned above, a discharge average of $44.45 \\text{ m}^3/\\text{s}$.\n",
    "It is therefore expected that the confluence Basin goes towards a level where the outflow is equal to the inflow via the rating curve.\n",
    "Only then is the confluence Basin in equilibrium.\n",
    "The maximum depth of the river is $6 \\text{ m}$, and the maximum inflow is $221.5 \\text{ m}^3/\\text{s}$\n",
    "The $Q(h)$ relationship in @tbl-input2 allows such inflows with reasonable water levels.\n",
    "\n",
    ": Input data for the Tabulated Rating Curve {#tbl-input2}\n",
    "\n",
    "| Water Level ($h$) [$\\text{m}$] | Outflow ($Q$) [$\\text{m}^3/\\text{s}$] |\n",
    "| -------------------------------|---------------------------------------|\n",
    "| $0.0$                          | $0.0$                                 |\n",
    "| $2.0$                          | $50.0$                                |\n",
    "| $5.0$                          | $200.0$                               |\n",
    "\n",
    "In Ribasim, the $Q(h)$ relation is a piecewise linear function, so the points in between will be linearly interpolated.\n",
    "@fig-discharge illustrates the visual process and shows a progressive increase in discharge with rising water levels.\n",
    "In this case this means:\n",
    "\n",
    "- At level $0.0$: No discharge occurs. This represents a condition where the water level is too low for any flow to be discharged.\n",
    "- At level $2.0$: Discharge is $50.0 \\text{ m}^3/\\text{s}$. This is a bit above the average discharge rate, corresponding to the water level where normal flow conditions are established.\n",
    "- At level $5.0$: Discharge rate reaches $200.0 \\text{ m}^3/\\text{s}$. This discharge rate occurs at the water level during wet periods, indicating higher flow capacity.\n",
    "\n",
    "![Discharge at corresponding water levels](https://s3.deltares.nl/ribasim/doc-image/quickstart/Discharge-at-corresponding-water-levels.png){fig-align=\"left\" #fig-discharge}\n",
    "\n",
    "Taking this into account, add the `TabulatedRatingCurve` as follows:"
   ]
  },
  {
   "cell_type": "code",
   "execution_count": null,
   "metadata": {},
   "outputs": [],
   "source": [
    "weir = model.tabulated_rating_curve.add(\n",
    "    Node(4, Point(-1.5, -1.5), name=\"weir\"),\n",
    "    [\n",
    "        tabulated_rating_curve.Static(\n",
    "            level=[0.0, 2, 5],\n",
    "            flow_rate=[0.0, 50, 200],\n",
    "        )\n",
    "    ],\n",
    ")"
   ]
  },
  {
   "cell_type": "markdown",
   "metadata": {},
   "source": [
    "### Terminal node\n",
    "Finally all the water will discharge into the sea.\n",
    "We schematize this with the Terminal node, as it portrays the end point of the model, that can receive but not give water.\n",
    "Besides the node number/name and location, no further input is needed."
   ]
  },
  {
   "cell_type": "code",
   "execution_count": null,
   "metadata": {},
   "outputs": [],
   "source": [
    "sea = model.terminal.add(Node(5, Point(-1.5, -3.0), name=\"sea\"))"
   ]
  },
  {
   "cell_type": "markdown",
   "metadata": {},
   "source": [
    "### Defining links\n",
    "Implement the connections (links) between the nodes."
   ]
  },
  {
   "cell_type": "code",
   "execution_count": null,
   "metadata": {},
   "outputs": [],
   "source": [
    "model.link.add(main, confluence, name=\"main\")\n",
    "model.link.add(minor, confluence, name=\"minor\")\n",
    "model.link.add(confluence, weir)\n",
    "model.link.add(weir, sea, name=\"sea\")"
   ]
  },
  {
   "cell_type": "markdown",
   "metadata": {},
   "source": [
    "### Visualization and model execution\n",
    "Plot the schematization."
   ]
  },
  {
   "cell_type": "code",
   "execution_count": null,
   "metadata": {},
   "outputs": [],
   "source": [
    "model.plot();"
   ]
  },
  {
   "cell_type": "markdown",
   "metadata": {},
   "source": [
    "Write the model configuration to the `TOML` file.\n",
    "Name the output file `Crystal-1/ribasim.toml`:"
   ]
  },
  {
   "cell_type": "code",
   "execution_count": null,
   "metadata": {},
   "outputs": [],
   "source": [
    "toml_path = base_dir / \"Crystal-1/ribasim.toml\"\n",
    "model.write(toml_path)\n",
    "cli_path = \"ribasim\""
   ]
  },
  {
   "cell_type": "markdown",
   "metadata": {},
   "source": [
    "After running `model.write` a subfolder `Crystal-1` is created, which contains the model input data and configuration:\n",
    "\n",
    "- ribasim.toml: The model configuration\n",
    "- database.gpkg: A GeoPackage containing the network geometry and input data of the nodes used."
   ]
  },
  {
   "cell_type": "code",
   "execution_count": null,
   "metadata": {},
   "outputs": [],
   "source": [
    "# | include: false\n",
    "from subprocess import run\n",
    "\n",
    "run(\n",
    "    [\n",
    "        \"julia\",\n",
    "        \"--project=../../core\",\n",
    "        \"--eval\",\n",
    "        f'using Ribasim; Ribasim.main(\"{toml_path.as_posix()}\")',\n",
    "    ],\n",
    "    check=True,\n",
    ")"
   ]
  },
  {
   "cell_type": "markdown",
   "metadata": {},
   "source": [
    "Now run the model. You can open a terminal and run it from there. For example:\n",
    "\n",
    "```bash\n",
    "ribasim Crystal-1/ribasim.toml\n",
    "```\n",
    "\n",
    "From Python you can run it with:\n",
    "\n",
    "```python\n",
    "import subprocess\n",
    "result = subprocess.run([cli_path, toml_path], capture_output=True, encoding=\"utf-8\")\n",
    "print(result.stderr)\n",
    "result.check_returncode()\n",
    "```\n",
    "\n",
    "Where `cli_path` is a string with either the full path to the Ribasim executable, like `r\"c:\\bin\\ribasim\\ribasim\"`, or just `\"ribasim\"` in case you added the `ribasim` folder to your PATH.\n",
    "\n",
    "The `print(result.stderr)` ensures you see the same logging and error messages that you would see in the terminal. And `result.check_returncode()` will throw an error when the simulation was not successful."
   ]
  },
  {
   "cell_type": "markdown",
   "metadata": {},
   "source": [
    "### Post-processing results\n",
    "Read the Arrow files and plot the simulated flows from different links and the levels and storages at our confluence point:"
   ]
  },
  {
   "cell_type": "code",
   "execution_count": null,
   "metadata": {},
   "outputs": [],
   "source": [
    "df_basin = pd.read_feather(\n",
    "    base_dir / \"Crystal-1/results/basin.arrow\", dtype_backend=\"pyarrow\"\n",
    ")\n",
    "\n",
    "# Create pivot tables and plot for Basin data\n",
    "df_basin_wide = df_basin.pivot_table(\n",
    "    index=\"time\", columns=\"node_id\", values=[\"storage\", \"level\"]\n",
    ")\n",
    "\n",
    "# Plot level and storage on the same graph with dual y-axes\n",
    "fig, ax1 = plt.subplots(figsize=(12, 6))\n",
    "\n",
    "# Plot level on the primary y-axis\n",
    "color = \"b\"\n",
    "ax1.set_xlabel(\"Time\")\n",
    "ax1.set_ylabel(\"Level [m]\", color=color)\n",
    "ax1.plot(df_basin_wide.index, df_basin_wide[\"level\"], color=color)\n",
    "ax1.tick_params(axis=\"y\", labelcolor=color)\n",
    "\n",
    "# Create a secondary y-axis for storage\n",
    "ax2 = ax1.twinx()\n",
    "color = \"r\"\n",
    "ax2.set_ylabel(\"Storage [m³]\", color=\"r\")\n",
    "ax2.plot(df_basin_wide.index, df_basin_wide[\"storage\"], linestyle=\"--\", color=color)\n",
    "ax2.tick_params(axis=\"y\", labelcolor=color)\n",
    "\n",
    "fig.tight_layout()  # Adjust layout to fit labels\n",
    "plt.title(\"Basin level and storage\")\n",
    "plt.show()"
   ]
  },
  {
   "cell_type": "markdown",
   "metadata": {},
   "source": [
    "The figure above shows the storage and levels in the Basin node.\n",
    "\n",
    "To accurately represent the relationship between water levels and discharge rates at this confluence, a TabulatedRatingCurve is used.\n",
    "This setup mimics the behavior of a gate or spillway, allowing us to model how varying water levels influence flow rates at the confluence.\n",
    "Since the basin node is functioning as a confluence rather than a storage reservoir, the simulated water levels and storage trends will closely follow the inflow patterns.\n",
    "This is because there is no net change in storage; all incoming water is balanced by outgoing flow."
   ]
  },
  {
   "cell_type": "code",
   "execution_count": null,
   "metadata": {},
   "outputs": [],
   "source": [
    "# Plot flow data\n",
    "# Read the flow results\n",
    "df_flow = pd.read_feather(\n",
    "    base_dir / \"Crystal-1/results/flow.arrow\", dtype_backend=\"pyarrow\"\n",
    ")\n",
    "# Add the link names and then remove unnamed links\n",
    "df_flow[\"name\"] = model.link.df[\"name\"].loc[df_flow[\"link_id\"]].to_numpy()\n",
    "df_flow = df_flow[df_flow[\"name\"].astype(bool)]\n",
    "\n",
    "# Create a pivot table\n",
    "pivot_flow = df_flow.pivot_table(index=\"time\", columns=\"name\", values=\"flow_rate\")\n",
    "\n",
    "line_styles = [\"-\", \"--\", \"-\", \"-.\"]\n",
    "num_styles = len(line_styles)\n",
    "\n",
    "fig, ax = plt.subplots(figsize=(12, 6))\n",
    "for i, column in enumerate(pivot_flow.columns):\n",
    "    pivot_flow[column].plot(\n",
    "        ax=ax, linestyle=line_styles[i % num_styles], linewidth=1.5, alpha=0.8\n",
    "    )\n",
    "\n",
    "# Set labels and title\n",
    "ax.set_xlabel(\"Time\")\n",
    "ax.set_ylabel(\"Flow [m³/s]\")\n",
    "ax.legend(bbox_to_anchor=(1.15, 1), title=\"Link\")\n",
    "plt.title(\"Flow\")\n",
    "plt.grid(True)\n",
    "plt.show()"
   ]
  },
  {
   "cell_type": "markdown",
   "metadata": {},
   "source": [
    "The figure above shows the discharges in $\\text{m}^3/\\text{s}$ on each link.\n",
    "\n",
    "Link (3,4) represents the flow from the confluence to the TabulatedRatingCurve and link (4,5) represents the flow from the TabulatedRatingCurve to the Terminal.\n",
    "Both show the same discharge over time.\n",
    "Which is expected in a natural flow environment, as what is coming into the confluence must come out."
   ]
  }
 ],
 "metadata": {
  "kernelspec": {
   "display_name": "Python 3",
   "language": "python",
   "name": "python3"
  },
  "language_info": {
   "codemirror_mode": {
    "name": "ipython",
    "version": 3
   },
   "file_extension": ".py",
   "mimetype": "text/x-python",
   "name": "python",
   "nbconvert_exporter": "python",
   "pygments_lexer": "ipython3",
   "version": "3.12.5"
  }
 },
 "nbformat": 4,
 "nbformat_minor": 4
}
