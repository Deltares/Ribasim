{
 "cells": [
  {
   "cell_type": "markdown",
   "metadata": {},
   "source": [
    "---\n",
    "title: \"Irrigation demand\"\n",
    "---"
   ]
  },
  {
   "cell_type": "code",
   "execution_count": null,
   "metadata": {},
   "outputs": [],
   "source": [
    "from pathlib import Path\n",
    "\n",
    "import matplotlib.pyplot as plt\n",
    "import pandas as pd\n",
    "import plotly.express as px\n",
    "from ribasim import Model, Node\n",
    "from ribasim.nodes import (\n",
    "    basin,\n",
    "    flow_boundary,\n",
    "    tabulated_rating_curve,\n",
    "    user_demand,\n",
    ")\n",
    "from shapely.geometry import Point"
   ]
  },
  {
   "cell_type": "code",
   "execution_count": null,
   "metadata": {},
   "outputs": [],
   "source": [
    "base_dir = Path(\"crystal-basin\")\n",
    "\n",
    "starttime = \"2022-01-01\"\n",
    "endtime = \"2023-01-01\"\n",
    "model = Model(\n",
    "    starttime=starttime,\n",
    "    endtime=endtime,\n",
    "    crs=\"EPSG:4326\",\n",
    ")"
   ]
  },
  {
   "cell_type": "markdown",
   "metadata": {},
   "source": [
    "These nodes are identical to the previous tutorial:"
   ]
  },
  {
   "cell_type": "code",
   "execution_count": null,
   "metadata": {},
   "outputs": [],
   "source": [
    "# FlowBoundary\n",
    "data = pd.DataFrame({\n",
    "    \"time\": pd.date_range(start=\"2022-01-01\", end=\"2023-01-01\", freq=\"MS\"),\n",
    "    \"main\": [74.7, 57.9, 63.2, 183.9, 91.8, 47.5, 32.6, 27.6, 26.5, 25.1, 39.3, 37.8, 57.9],\n",
    "    \"minor\": [16.3, 3.8, 3.0, 37.6, 18.2, 11.1, 12.9, 12.2, 11.2, 10.8, 15.1, 14.3, 11.8]\n",
    "})  # fmt: skip\n",
    "data[\"total\"] = data[\"minor\"] + data[\"main\"]\n",
    "main = model.flow_boundary.add(\n",
    "    Node(1, Point(0.0, 0.0), name=\"main\"),\n",
    "    [\n",
    "        flow_boundary.Time(\n",
    "            time=data.time,\n",
    "            flow_rate=data.main,\n",
    "        )\n",
    "    ],\n",
    ")\n",
    "minor = model.flow_boundary.add(\n",
    "    Node(2, Point(-3.0, 0.0), name=\"minor\"),\n",
    "    [\n",
    "        flow_boundary.Time(\n",
    "            time=data.time,\n",
    "            flow_rate=data.minor,\n",
    "        )\n",
    "    ],\n",
    ")\n",
    "\n",
    "# Basin\n",
    "confluence = model.basin.add(\n",
    "    Node(3, Point(-1.5, -1), name=\"confluence\"),\n",
    "    [\n",
    "        basin.Profile(area=[672000, 5600000], level=[0, 6]),\n",
    "        basin.State(level=[4]),\n",
    "        basin.Time(time=[starttime, endtime]),\n",
    "    ],\n",
    ")\n",
    "\n",
    "# TabulatedRatingCurve\n",
    "weir = model.tabulated_rating_curve.add(\n",
    "    Node(4, Point(-1.5, -1.5), name=\"weir\"),\n",
    "    [\n",
    "        tabulated_rating_curve.Static(\n",
    "            level=[0.0, 2, 5],\n",
    "            flow_rate=[0.0, 50, 200],\n",
    "        )\n",
    "    ],\n",
    ")\n",
    "\n",
    "# Terminal\n",
    "sea = model.terminal.add(Node(5, Point(-1.5, -3.0), name=\"sea\"))"
   ]
  },
  {
   "cell_type": "markdown",
   "metadata": {},
   "source": [
    "## Irrigation demand\n",
    "\n",
    "Let us modify the environment to include agricultural activities within the basin, which necessitate irrigation.\n",
    "Water is diverted from the main river through an irrigation canal, with a portion of it eventually returning to the main river (see @fig-irrigation).\n",
    "\n",
    "![Crystal basin with irrigation](https://s3.deltares.nl/ribasim/doc-image/quickstart/Crystal-basin-with-irrigation.png){fig-align=\"left\" #fig-irrigation}\n",
    "\n",
    "For this schematization update, we need to incorporate three additional nodes:\n",
    "\n",
    "- Basin: Represents a cross-sectional point where water is diverted.\n",
    "- UserDemand: Represents the irrigation demand.\n",
    "- TabulatedRatingCurve: Defines the remaining water flow from the main river at the diversion point."
   ]
  },
  {
   "cell_type": "markdown",
   "metadata": {},
   "source": [
    "### Add a second Basin node\n",
    "This Basin will portray as the point in the river where the diversion takes place, getting the name `diversion`.\n",
    "Its profile area at this intersection is slightly smaller than at the confluence."
   ]
  },
  {
   "cell_type": "code",
   "execution_count": null,
   "metadata": {},
   "outputs": [],
   "source": [
    "diversion_basin = model.basin.add(\n",
    "    Node(6, Point(-0.75, -0.5), name=\"diversion_basin\"),\n",
    "    [\n",
    "        basin.Profile(area=[500000, 5000000], level=[0, 6]),\n",
    "        basin.State(level=[3]),\n",
    "        basin.Time(time=[starttime, endtime]),\n",
    "    ],\n",
    ")"
   ]
  },
  {
   "cell_type": "markdown",
   "metadata": {},
   "source": [
    "### Add the irrigation demand\n",
    "An irrigation district needs to apply irrigation to its field starting from April to September.\n",
    "The irrigated area is $> 17000 \\text{ ha}$ and requires around $5 \\text{ mm/day}$.\n",
    "In this case the irrigation district diverts from the main river an average flow rate of $10 \\text{ m}^3/\\text{s}$ and $12 \\text{ m}^3/\\text{s}$ during spring and summer, respectively.\n",
    "Start of irrigation takes place on the 1st of April until the end of September.\n",
    "The water intake is through a canal (demand).\n",
    "\n",
    "For now, let's assume the return flow remains $0.0$ (`return_factor`).\n",
    "Meaning all the supplied water to fulfill the demand is consumed and does not return back to the river.\n",
    "The user demand node interpolates the demand values. Thus the following code needs to be implemented:"
   ]
  },
  {
   "cell_type": "code",
   "execution_count": null,
   "metadata": {},
   "outputs": [],
   "source": [
    "irrigation = model.user_demand.add(\n",
    "    Node(7, Point(-1.5, 0.5), name=\"irrigation\"),\n",
    "    [\n",
    "        user_demand.Time(\n",
    "            demand=[0.0, 0.0, 10, 12, 12, 0.0],\n",
    "            return_factor=0,\n",
    "            min_level=0,\n",
    "            demand_priority=1,\n",
    "            time=[\n",
    "                starttime,\n",
    "                \"2022-03-31\",\n",
    "                \"2022-04-01\",\n",
    "                \"2022-07-01\",\n",
    "                \"2022-09-30\",\n",
    "                \"2022-10-01\",\n",
    "            ],\n",
    "        )\n",
    "    ],\n",
    ")"
   ]
  },
  {
   "cell_type": "markdown",
   "metadata": {},
   "source": [
    "### Add a TabulatedRatingCurve\n",
    "The second TabulatedRatingCurve node will simulate the rest of the water that is left after diverting a part from the main river to the irrigation disctrict.\n",
    "The rest of the water will flow naturally towards the confluence:"
   ]
  },
  {
   "cell_type": "code",
   "execution_count": null,
   "metadata": {},
   "outputs": [],
   "source": [
    "diversion_weir = model.tabulated_rating_curve.add(\n",
    "    Node(8, Point(-1.125, -0.75), name=\"diversion_weir\"),\n",
    "    [\n",
    "        tabulated_rating_curve.Static(\n",
    "            level=[0.0, 1.5, 5],\n",
    "            flow_rate=[0.0, 45, 200],\n",
    "        )\n",
    "    ],\n",
    ")"
   ]
  },
  {
   "cell_type": "markdown",
   "metadata": {},
   "source": [
    "### Add links"
   ]
  },
  {
   "cell_type": "code",
   "execution_count": null,
   "metadata": {},
   "outputs": [],
   "source": [
    "model.link.add(main, diversion_basin, name=\"main\")\n",
    "model.link.add(minor, confluence, name=\"minor\")\n",
    "model.link.add(diversion_basin, irrigation, name=\"irrigation\")\n",
    "model.link.add(irrigation, confluence)\n",
    "model.link.add(diversion_basin, diversion_weir, name=\"not diverted\")\n",
    "model.link.add(diversion_weir, confluence)\n",
    "model.link.add(confluence, weir)\n",
    "model.link.add(weir, sea, name=\"sea\")"
   ]
  },
  {
   "cell_type": "code",
   "execution_count": null,
   "metadata": {},
   "outputs": [],
   "source": [
    "toml_path = base_dir / \"Crystal-2/ribasim.toml\"\n",
    "model.write(toml_path)\n",
    "cli_path = \"ribasim\""
   ]
  },
  {
   "cell_type": "markdown",
   "metadata": {},
   "source": [
    "### Plot model and run\n",
    "Plot the schematization and run the model.\n",
    "This time the new outputs should be written in a new folder called `Crystal-2`:"
   ]
  },
  {
   "cell_type": "code",
   "execution_count": null,
   "metadata": {},
   "outputs": [],
   "source": [
    "model.plot();"
   ]
  },
  {
   "cell_type": "code",
   "execution_count": null,
   "metadata": {},
   "outputs": [],
   "source": [
    "# | include: false\n",
    "from subprocess import run\n",
    "\n",
    "run(\n",
    "    [\n",
    "        \"julia\",\n",
    "        \"--project=../../core\",\n",
    "        \"--eval\",\n",
    "        f'using Ribasim; Ribasim.main(\"{toml_path.as_posix()}\")',\n",
    "    ],\n",
    "    check=True,\n",
    ")"
   ]
  },
  {
   "cell_type": "markdown",
   "metadata": {},
   "source": [
    "### Plot and compare the Basin results\n",
    "Plot the simulated levels and storages at the diverted section and at the confluence."
   ]
  },
  {
   "cell_type": "code",
   "execution_count": null,
   "metadata": {},
   "outputs": [],
   "source": [
    "df_basin = pd.read_feather(\n",
    "    base_dir / \"Crystal-2/results/basin.arrow\", dtype_backend=\"pyarrow\"\n",
    ")\n",
    "\n",
    "# Create pivot tables and plot for basin data\n",
    "df_basin_wide = df_basin.pivot_table(\n",
    "    index=\"time\", columns=\"node_id\", values=[\"storage\", \"level\"]\n",
    ")\n",
    "\n",
    "df_basin_div = df_basin_wide.loc[:, pd.IndexSlice[:, diversion_basin.node_id]]\n",
    "df_basin_conf = df_basin_wide.loc[:, pd.IndexSlice[:, confluence.node_id]]\n",
    "\n",
    "\n",
    "def plot_basin_data(\n",
    "    ax, ax_twin, df_basin, level_color=\"b\", storage_color=\"r\", title=\"Basin\"\n",
    "):\n",
    "    # Plot level data\n",
    "    for column in df_basin[\"level\"].columns:\n",
    "        ax.plot(\n",
    "            df_basin.index,\n",
    "            df_basin[\"level\"][column],\n",
    "            linestyle=\"-\",\n",
    "            color=level_color,\n",
    "            label=f\"Level - {column}\",\n",
    "        )\n",
    "\n",
    "    # Plot storage data\n",
    "    for column in df_basin[\"storage\"].columns:\n",
    "        ax_twin.plot(\n",
    "            df_basin.index,\n",
    "            df_basin[\"storage\"][column],\n",
    "            linestyle=\"--\",\n",
    "            color=storage_color,\n",
    "            label=f\"Storage - {column}\",\n",
    "        )\n",
    "\n",
    "    ax.set_ylabel(\"Level [m]\", color=level_color)\n",
    "    ax_twin.set_ylabel(\"Storage [m³]\", color=storage_color)\n",
    "\n",
    "    ax.tick_params(axis=\"y\", labelcolor=level_color)\n",
    "    ax_twin.tick_params(axis=\"y\", labelcolor=storage_color)\n",
    "\n",
    "    ax.set_title(title)\n",
    "\n",
    "    # Combine legends from both axes\n",
    "    lines, labels = ax.get_legend_handles_labels()\n",
    "    lines_twin, labels_twin = ax_twin.get_legend_handles_labels()\n",
    "    ax.legend(lines + lines_twin, labels + labels_twin, loc=\"upper left\")\n",
    "\n",
    "\n",
    "# Create subplots\n",
    "fig, (ax1, ax3) = plt.subplots(2, 1, figsize=(12, 12), sharex=True)\n",
    "\n",
    "# Plot Div basin data\n",
    "ax2 = ax1.twinx()  # Secondary y-axis for storage\n",
    "plot_basin_data(ax1, ax2, df_basin_div, title=\"Diversion Basin level and storage\")\n",
    "\n",
    "# Plot Conf basin data\n",
    "ax4 = ax3.twinx()  # Secondary y-axis for storage\n",
    "plot_basin_data(ax3, ax4, df_basin_conf, title=\"Confluence Basin level and storage\")\n",
    "\n",
    "# Common X label\n",
    "ax3.set_xlabel(\"Time\")\n",
    "fig.tight_layout()  # Adjust layout to fit labels\n",
    "plt.show()"
   ]
  },
  {
   "cell_type": "markdown",
   "metadata": {},
   "source": [
    "The figure above illustrates the water levels and storage capacities for each Basin.\n",
    "\n",
    "When compared to the natural flow conditions, where no water is abstracted for irrigation (See Crystal 1), there is a noticeable decrease in both storage and water levels at the confluence downstream.\n",
    "This reduction is attributed to the irrigation demand upstream with no return flow, which decreases the amount of available water in the main river, resulting in lower water levels at the confluence.\n",
    "\n",
    "### Plot and compare the flow results\n",
    "Plot the flow results in an interactive plotting tool."
   ]
  },
  {
   "cell_type": "code",
   "execution_count": null,
   "metadata": {},
   "outputs": [],
   "source": [
    "df_flow = pd.read_feather(\n",
    "    base_dir / \"Crystal-2/results/flow.arrow\", dtype_backend=\"pyarrow\"\n",
    ")\n",
    "# Add the link names and then remove unnamed links\n",
    "df_flow[\"name\"] = model.link.df[\"name\"].loc[df_flow[\"link_id\"]].to_numpy()\n",
    "df_flow = df_flow[df_flow[\"name\"].astype(bool)]\n",
    "\n",
    "# Plot the flow data, interactive plot with Plotly\n",
    "pivot_flow = df_flow.pivot_table(\n",
    "    index=\"time\", columns=\"name\", values=\"flow_rate\"\n",
    ").reset_index()\n",
    "fig = px.line(pivot_flow, x=\"time\", y=pivot_flow.columns[1:], title=\"Flow [m3/s]\")\n",
    "\n",
    "fig.update_layout(legend_title_text=\"Link\")\n",
    "fig.show()"
   ]
  },
  {
   "cell_type": "markdown",
   "metadata": {},
   "source": [
    "Try toggling the links on and off by clicking on them in the links."
   ]
  }
 ],
 "metadata": {
  "kernelspec": {
   "display_name": "Python 3",
   "language": "python",
   "name": "python3"
  },
  "language_info": {
   "codemirror_mode": {
    "name": "ipython",
    "version": 3
   },
   "file_extension": ".py",
   "mimetype": "text/x-python",
   "name": "python",
   "nbconvert_exporter": "python",
   "pygments_lexer": "ipython3",
   "version": "3.12.5"
  }
 },
 "nbformat": 4,
 "nbformat_minor": 4
}
